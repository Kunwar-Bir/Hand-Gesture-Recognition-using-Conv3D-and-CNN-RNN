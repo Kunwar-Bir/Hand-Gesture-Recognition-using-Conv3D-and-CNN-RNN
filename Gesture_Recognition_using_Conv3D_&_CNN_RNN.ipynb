{
  "nbformat": 4,
  "nbformat_minor": 0,
  "metadata": {
    "colab": {
      "provenance": [],
      "gpuType": "T4"
    },
    "kernelspec": {
      "name": "python3",
      "display_name": "Python 3"
    },
    "language_info": {
      "name": "python"
    },
    "accelerator": "GPU"
  },
  "cells": [
    {
      "cell_type": "code",
      "source": [
        "import numpy as np\n",
        "import os\n",
        "import datetime\n",
        "import os\n",
        "\n",
        "import imageio # using as an alternative of imread as it is deprecated\n",
        "from PIL import Image # using as an alternative of imread as it is deprecated\n",
        "\n",
        "import matplotlib.pyplot as plt\n",
        "%matplotlib inline\n",
        "\n",
        "import warnings\n",
        "warnings.filterwarnings('ignore')"
      ],
      "metadata": {
        "id": "yn2YY5wzYnj7"
      },
      "execution_count": 17,
      "outputs": []
    },
    {
      "cell_type": "code",
      "source": [
        "np.random.seed(30)\n",
        "import random as rn\n",
        "rn.seed(30)\n",
        "from keras import backend as K\n",
        "import tensorflow as tf\n",
        "tf.random.set_seed(30)"
      ],
      "metadata": {
        "id": "BKW3_rkGYoka"
      },
      "execution_count": 18,
      "outputs": []
    },
    {
      "cell_type": "code",
      "source": [
        "# mount google drive.\n",
        "from google.colab import drive\n",
        "drive.mount('/content/gdrive')"
      ],
      "metadata": {
        "colab": {
          "base_uri": "https://localhost:8080/"
        },
        "id": "AEtlHFM2nvWf",
        "outputId": "0392d6ee-b6b5-44dc-819b-8904e5eea8f2"
      },
      "execution_count": 19,
      "outputs": [
        {
          "output_type": "stream",
          "name": "stdout",
          "text": [
            "Drive already mounted at /content/gdrive; to attempt to forcibly remount, call drive.mount(\"/content/gdrive\", force_remount=True).\n"
          ]
        }
      ]
    },
    {
      "cell_type": "code",
      "source": [
        "#Extract Data\n",
        "#!unzip '/gdrive/MyDrive/Project_data.zip' -d '/gdrive/MyDrive/Project_data'"
      ],
      "metadata": {
        "id": "Lpm0hKVcoNBm"
      },
      "execution_count": 20,
      "outputs": []
    },
    {
      "cell_type": "code",
      "source": [
        "train_doc = np.random.permutation(open('/content/gdrive/MyDrive/Project_data/Project_data/train.csv').readlines())\n",
        "val_doc = np.random.permutation(open('/content/gdrive/MyDrive/Project_data/Project_data/val.csv').readlines())\n",
        "\n"
      ],
      "metadata": {
        "id": "Ns7JrzSjZArZ"
      },
      "execution_count": 21,
      "outputs": []
    },
    {
      "cell_type": "code",
      "source": [
        "batch_size = 64 #experiment with the batch size"
      ],
      "metadata": {
        "id": "aawOXsHGu-Wn"
      },
      "execution_count": 22,
      "outputs": []
    },
    {
      "cell_type": "markdown",
      "source": [
        "# Building a Conv3D model"
      ],
      "metadata": {
        "id": "62ZX8qCMpzwr"
      }
    },
    {
      "cell_type": "markdown",
      "source": [
        "# Generator\n",
        "This is one of the most important part of the code. The overall structure of the generator has been given. In the generator, you are going to preprocess the images as you have images of 2 different dimensions as well as create a batch of video frames. You have to experiment with img_idx, y,z and normalization such that you get high accuracy."
      ],
      "metadata": {
        "id": "RNfXFL3YuORF"
      }
    },
    {
      "cell_type": "code",
      "source": [
        "from skimage.transform import resize"
      ],
      "metadata": {
        "id": "sJqKEeujIXTL"
      },
      "execution_count": 23,
      "outputs": []
    },
    {
      "cell_type": "code",
      "source": [
        "def generator(source_path, folder_list, batch_size):\n",
        "    print( 'Source path = ', source_path, '; batch size =', batch_size)\n",
        "    img_idx = [0,1,2,4,6,8,10,12,14,16,18,20,22,24,26,27,28,29] #create a list of image numbers you want to use for a particular video\n",
        "    while True:\n",
        "        t = np.random.permutation(folder_list)\n",
        "        num_batches = len(source_path)//batch_size # calculate the number of batches\n",
        "        for batch in range(num_batches):\n",
        "            batch_data = np.zeros((batch_size,18,84,84,3)) # x is the number of images you use for each video, (y,z) is the final size of the input images and 3 is the number of channels RGB\n",
        "            batch_labels = np.zeros((batch_size,5)) # batch_labels is the one hot representation of the output\n",
        "            for folder in range(batch_size):\n",
        "                imgs = os.listdir(source_path+'/'+ t[folder + (batch*batch_size)].split(';')[0]) # read all the images in the folder\n",
        "                for idx,item in enumerate(img_idx):\n",
        "                    image = imageio.imread(source_path+'/'+ t[folder + (batch*batch_size)].strip().split(';')[0]+'/'+imgs[item]).astype(np.float32)\n",
        "\n",
        "                    #crop the images and resize them. Note that the images are of 2 different shape\n",
        "                    #and the conv3D will throw error if the inputs in a batch have different shapes\n",
        "                    if image.shape[1] == 160:\n",
        "                        image = resize(image[:,20:140,:],(84,84)).astype(np.float32) #cropping the (120X160) image to make (120X120)\n",
        "                    else:\n",
        "                        print(\"\")\n",
        "                        image = resize(image,(84,84)).astype(np.float32)\n",
        "                    # Normalizing RGB image with mean subtraction\n",
        "                    batch_data[folder,idx,:,:,0] = image[:,:,0] - 104\n",
        "                    batch_data[folder,idx,:,:,1] = image[:,:,1] - 117\n",
        "                    batch_data[folder,idx,:,:,2] = image[:,:,2] - 123\n",
        "\n",
        "                batch_labels[folder, int(t[folder + (batch*batch_size)].strip().split(';')[2])] = 1\n",
        "            yield batch_data, batch_labels #you yield the batch_data and the batch_labels, remember what does yield do\n",
        "\n",
        "\n",
        "\n",
        "        # write the code for the remaining data points which are left after full batches\n",
        "        if(len(t)%batch_size!=0):\n",
        "            batch_data = np.zeros((len(t)%batch_size,18,84,84,3)) # x is the number of images you use for each video, (y,z) is the final size of the input images and 3 is the number of channels RGB\n",
        "            batch_labels = np.zeros((len(t)%batch_size,5)) # batch_labels is the one hot representation of the output\n",
        "            for folder in range(len(t)%batch_size): # iterate over the batch_size\n",
        "                imgs = os.listdir(source_path+'/'+ t[folder + (num_batches*(len(t)%batch_size))].split(';')[0]) # read all the images in the folder\n",
        "                for idx,item in enumerate(img_idx): #  Iterate iver the frames/images of a folder to read them in\n",
        "                    image = imageio.imread(source_path+'/'+ t[folder + (num_batches*(len(t)%batch_size))].strip().split(';')[0]+'/'+imgs[item]).astype(np.float32)\n",
        "\n",
        "                    #crop the images and resize them. Note that the images are of 2 different shape\n",
        "                    #and the conv3D will throw error if the inputs in a batch have different shapes\n",
        "\n",
        "                    if image.shape[1] == 160:\n",
        "                        image = resize(image[:,20:140,:],(84,84)).astype(np.float32)\n",
        "                    else:\n",
        "                        image = resize(image,(84,84)).astype(np.float32)\n",
        "                    # Normalizing RGB image with mean subtraction\n",
        "                    batch_data[folder,idx,:,:,0] = image[:,:,0] - 104\n",
        "                    batch_data[folder,idx,:,:,1] = image[:,:,1] - 117\n",
        "                    batch_data[folder,idx,:,:,2] = image[:,:,2] - 123\n",
        "\n",
        "                batch_labels[folder, int(t[folder + (num_batches*(len(t)%batch_size))].strip().split(';')[2])] = 1\n",
        "            yield batch_data, batch_labels #you yield the batch_data and the batch_labels, remember what does yield do"
      ],
      "metadata": {
        "id": "8Aa2MSQweNKC"
      },
      "execution_count": 24,
      "outputs": []
    },
    {
      "cell_type": "markdown",
      "source": [
        "Note here that a video is represented above in the generator as (number of images, height, width, number of channels). Take this into consideration while creating the model architecture."
      ],
      "metadata": {
        "id": "yHdcf2fbv6rM"
      }
    },
    {
      "cell_type": "code",
      "source": [
        "curr_dt_time = datetime.datetime.now()\n",
        "train_path = '/content/gdrive/MyDrive/Project_data/Project_data/train'\n",
        "val_path = '/content/gdrive/MyDrive/Project_data/Project_data/val'\n",
        "\n",
        "num_train_sequences = len(train_doc)\n",
        "print('# training sequences =', num_train_sequences)\n",
        "num_val_sequences = len(val_doc)\n",
        "print('# validation sequences =', num_val_sequences)\n",
        "num_epochs = 30 # choose the number of epochs\n",
        "print ('# epochs =', num_epochs)"
      ],
      "metadata": {
        "colab": {
          "base_uri": "https://localhost:8080/"
        },
        "id": "yx2iXzrnuAEF",
        "outputId": "24d7c561-5ca5-4666-86a5-a2b6acff73c9"
      },
      "execution_count": 25,
      "outputs": [
        {
          "output_type": "stream",
          "name": "stdout",
          "text": [
            "# training sequences = 663\n",
            "# validation sequences = 100\n",
            "# epochs = 30\n"
          ]
        }
      ]
    },
    {
      "cell_type": "markdown",
      "source": [
        "# Model\n",
        "Here you make the model using different functionalities that Keras provides. Remember to use Conv3D and MaxPooling3D and not Conv2D and Maxpooling2D for a 3D convolution model. You would want to use TimeDistributed while building a Conv2D + RNN model. Also remember that the last layer is the softmax. Design the network in such a way that the model is able to give good accuracy on the least number of parameters so that it can fit in the memory of the webcam."
      ],
      "metadata": {
        "id": "BeZ6L2bsxKxq"
      }
    },
    {
      "cell_type": "code",
      "source": [
        "from tensorflow.keras.models import Sequential, Model\n",
        "from tensorflow.keras.layers import Dense, GRU, Flatten, TimeDistributed, Flatten, BatchNormalization, Activation, Dropout\n",
        "\n",
        "from tensorflow.keras.layers import Conv3D, MaxPooling3D, Conv2D, MaxPooling2D\n",
        "from tensorflow.keras.callbacks import ModelCheckpoint, ReduceLROnPlateau\n",
        "from tensorflow.keras import optimizers\n",
        "from keras.optimizers import Adam"
      ],
      "metadata": {
        "id": "QeKHSIf3xCYH"
      },
      "execution_count": 26,
      "outputs": []
    },
    {
      "cell_type": "code",
      "source": [
        "#write your model here\n",
        "Input_shape = (18, 84, 84, 3)\n",
        "\n",
        "model3D = Sequential()\n",
        "model3D.add(Conv3D(64, (3,3,3), padding='same', input_shape=(18,84,84,3)))\n",
        "model3D.add(BatchNormalization())\n",
        "model3D.add(Activation('elu'))\n",
        "model3D.add(MaxPooling3D(pool_size=(2,2,1), strides=(2,2,1)))\n",
        "\n",
        "model3D.add(Conv3D(128, (3,3,3), padding='same'))\n",
        "model3D.add(BatchNormalization())\n",
        "model3D.add(Activation('elu'))\n",
        "model3D.add(MaxPooling3D(pool_size=(2,2,2), strides=(2,2,2)))\n",
        "\n",
        "model3D.add(Conv3D(256, (3,3,3), padding='same'))\n",
        "model3D.add(BatchNormalization())\n",
        "model3D.add(Activation('elu'))\n",
        "model3D.add(MaxPooling3D(pool_size=(2,2,2), strides=(2,2,2)))\n",
        "\n",
        "model3D.add(Conv3D(256, (3,3,3), padding='same'))\n",
        "model3D.add(BatchNormalization())\n",
        "model3D.add(Activation('elu'))\n",
        "model3D.add(MaxPooling3D(pool_size=(2,2,2), strides=(2,2,2)))\n",
        "\n",
        "model3D.add(Flatten())\n",
        "model3D.add(Dropout(0.5))\n",
        "model3D.add(Dense(512, activation='elu'))\n",
        "model3D.add(Dropout(0.5))\n",
        "model3D.add(Dense(5, activation='softmax'))"
      ],
      "metadata": {
        "id": "8T8TgysQxny2"
      },
      "execution_count": 27,
      "outputs": []
    },
    {
      "cell_type": "markdown",
      "source": [
        "Now that you have written the model, the next step is to compile the model. When you print the summary of the model, you'll see the total number of parameters you have to train."
      ],
      "metadata": {
        "id": "ZW5cz1YQ-rea"
      }
    },
    {
      "cell_type": "code",
      "source": [
        "optimiser = optimizers.SGD(learning_rate=0.001, momentum=0.9, nesterov=True)\n",
        "model3D.compile(optimizer=optimiser, loss='categorical_crossentropy', metrics=['categorical_accuracy'],run_eagerly=True)\n",
        "print (model3D.summary())"
      ],
      "metadata": {
        "colab": {
          "base_uri": "https://localhost:8080/"
        },
        "id": "9c7Oqw9H-ld3",
        "outputId": "734b034d-8f6c-4542-eaa6-86fb755a004f"
      },
      "execution_count": 28,
      "outputs": [
        {
          "output_type": "stream",
          "name": "stdout",
          "text": [
            "Model: \"sequential_1\"\n",
            "_________________________________________________________________\n",
            " Layer (type)                Output Shape              Param #   \n",
            "=================================================================\n",
            " conv3d_4 (Conv3D)           (None, 18, 84, 84, 64)    5248      \n",
            "                                                                 \n",
            " batch_normalization_4 (Bat  (None, 18, 84, 84, 64)    256       \n",
            " chNormalization)                                                \n",
            "                                                                 \n",
            " activation_4 (Activation)   (None, 18, 84, 84, 64)    0         \n",
            "                                                                 \n",
            " max_pooling3d_4 (MaxPoolin  (None, 9, 42, 84, 64)     0         \n",
            " g3D)                                                            \n",
            "                                                                 \n",
            " conv3d_5 (Conv3D)           (None, 9, 42, 84, 128)    221312    \n",
            "                                                                 \n",
            " batch_normalization_5 (Bat  (None, 9, 42, 84, 128)    512       \n",
            " chNormalization)                                                \n",
            "                                                                 \n",
            " activation_5 (Activation)   (None, 9, 42, 84, 128)    0         \n",
            "                                                                 \n",
            " max_pooling3d_5 (MaxPoolin  (None, 4, 21, 42, 128)    0         \n",
            " g3D)                                                            \n",
            "                                                                 \n",
            " conv3d_6 (Conv3D)           (None, 4, 21, 42, 256)    884992    \n",
            "                                                                 \n",
            " batch_normalization_6 (Bat  (None, 4, 21, 42, 256)    1024      \n",
            " chNormalization)                                                \n",
            "                                                                 \n",
            " activation_6 (Activation)   (None, 4, 21, 42, 256)    0         \n",
            "                                                                 \n",
            " max_pooling3d_6 (MaxPoolin  (None, 2, 10, 21, 256)    0         \n",
            " g3D)                                                            \n",
            "                                                                 \n",
            " conv3d_7 (Conv3D)           (None, 2, 10, 21, 256)    1769728   \n",
            "                                                                 \n",
            " batch_normalization_7 (Bat  (None, 2, 10, 21, 256)    1024      \n",
            " chNormalization)                                                \n",
            "                                                                 \n",
            " activation_7 (Activation)   (None, 2, 10, 21, 256)    0         \n",
            "                                                                 \n",
            " max_pooling3d_7 (MaxPoolin  (None, 1, 5, 10, 256)     0         \n",
            " g3D)                                                            \n",
            "                                                                 \n",
            " flatten_1 (Flatten)         (None, 12800)             0         \n",
            "                                                                 \n",
            " dropout_2 (Dropout)         (None, 12800)             0         \n",
            "                                                                 \n",
            " dense_2 (Dense)             (None, 512)               6554112   \n",
            "                                                                 \n",
            " dropout_3 (Dropout)         (None, 512)               0         \n",
            "                                                                 \n",
            " dense_3 (Dense)             (None, 5)                 2565      \n",
            "                                                                 \n",
            "=================================================================\n",
            "Total params: 9440773 (36.01 MB)\n",
            "Trainable params: 9439365 (36.01 MB)\n",
            "Non-trainable params: 1408 (5.50 KB)\n",
            "_________________________________________________________________\n",
            "None\n"
          ]
        }
      ]
    },
    {
      "cell_type": "markdown",
      "source": [
        "Let us create the train_generator and the val_generator which will be used in .fit_generator."
      ],
      "metadata": {
        "id": "P8ZNxZsI_4UY"
      }
    },
    {
      "cell_type": "code",
      "source": [
        "train_generator = generator(train_path, train_doc, batch_size)\n",
        "val_generator = generator(val_path, val_doc, batch_size)"
      ],
      "metadata": {
        "id": "bH0hXA-K-xAm"
      },
      "execution_count": 29,
      "outputs": []
    },
    {
      "cell_type": "code",
      "source": [
        "model_name = 'model_init' + '_' + str(curr_dt_time).replace(' ','').replace(':','_') + '/'\n",
        "\n",
        "if not os.path.exists(model_name):\n",
        "    os.mkdir(model_name)\n",
        "\n",
        "filepath = model_name + 'model-{epoch:05d}-{loss:.5f}-{categorical_accuracy:.5f}-{val_loss:.5f}-{val_categorical_accuracy:.5f}.h5'\n",
        "\n",
        "checkpoint = ModelCheckpoint(filepath, monitor='val_loss', verbose=1, save_best_only=False, save_weights_only=False, mode='auto', period=1)\n",
        "\n",
        "LR = ReduceLROnPlateau(monitor='val_loss', factor=0.5, patience=2, verbose=1, mode='min', min_delta=0.0001, cooldown=0, min_lr=0.00001)\n",
        "callbacks_list = [checkpoint, LR]"
      ],
      "metadata": {
        "colab": {
          "base_uri": "https://localhost:8080/"
        },
        "id": "XrRqGJO0AAEF",
        "outputId": "292418a1-19fd-4b66-e423-f3d1dd89d97b"
      },
      "execution_count": 30,
      "outputs": [
        {
          "output_type": "stream",
          "name": "stderr",
          "text": [
            "WARNING:tensorflow:`period` argument is deprecated. Please use `save_freq` to specify the frequency in number of batches seen.\n"
          ]
        }
      ]
    },
    {
      "cell_type": "markdown",
      "source": [
        "The steps_per_epoch and validation_steps are used by fit_generator to decide the number of next() calls it need to make."
      ],
      "metadata": {
        "id": "rqHqV6rxAMAC"
      }
    },
    {
      "cell_type": "code",
      "source": [
        "if (num_train_sequences%batch_size) == 0:\n",
        "    steps_per_epoch = int(num_train_sequences/batch_size)\n",
        "else:\n",
        "    steps_per_epoch = (num_train_sequences//batch_size) + 1\n",
        "\n",
        "if (num_val_sequences%batch_size) == 0:\n",
        "    validation_steps = int(num_val_sequences/batch_size)\n",
        "else:\n",
        "    validation_steps = (num_val_sequences//batch_size) + 1"
      ],
      "metadata": {
        "id": "XLgoIqeuAHuo"
      },
      "execution_count": 31,
      "outputs": []
    },
    {
      "cell_type": "markdown",
      "source": [
        "Let us now fit the model. This will start training the model and with the help of the checkpoints, you'll be able to save the model at the end of each epoch."
      ],
      "metadata": {
        "id": "B3rauaFSAYx3"
      }
    },
    {
      "cell_type": "code",
      "source": [
        "history = model3D.fit(train_generator, steps_per_epoch=steps_per_epoch, epochs=num_epochs,\n",
        "                    verbose=1, callbacks=callbacks_list, validation_data=val_generator,\n",
        "                    validation_steps=validation_steps, class_weight=None, workers=1, initial_epoch=0)"
      ],
      "metadata": {
        "colab": {
          "base_uri": "https://localhost:8080/"
        },
        "id": "iW8nirpfAU7n",
        "outputId": "4100eadc-e7ab-48dc-b3cf-a86d0de836f2"
      },
      "execution_count": 32,
      "outputs": [
        {
          "output_type": "stream",
          "name": "stdout",
          "text": [
            "Source path =  /content/gdrive/MyDrive/Project_data/Project_data/train ; batch size = 64\n",
            "Epoch 1/30\n",
            "11/11 [==============================] - ETA: 0s - loss: 4.3426 - categorical_accuracy: 0.3399Source path =  /content/gdrive/MyDrive/Project_data/Project_data/val ; batch size = 64\n",
            "\n",
            "Epoch 1: saving model to model_init_2023-12-0516_43_18.131123/model-00001-4.34255-0.33992-37.92296-0.29167.h5\n",
            "11/11 [==============================] - 125s 12s/step - loss: 4.3426 - categorical_accuracy: 0.3399 - val_loss: 37.9230 - val_categorical_accuracy: 0.2917 - lr: 0.0010\n",
            "Epoch 2/30\n",
            "11/11 [==============================] - ETA: 0s - loss: 2.7308 - categorical_accuracy: 0.4229 \n",
            "Epoch 2: saving model to model_init_2023-12-0516_43_18.131123/model-00002-2.73082-0.42292-33.76855-0.30556.h5\n",
            "11/11 [==============================] - 218s 22s/step - loss: 2.7308 - categorical_accuracy: 0.4229 - val_loss: 33.7685 - val_categorical_accuracy: 0.3056 - lr: 0.0010\n",
            "Epoch 3/30\n",
            "11/11 [==============================] - ETA: 0s - loss: 2.1768 - categorical_accuracy: 0.4901 \n",
            "Epoch 3: saving model to model_init_2023-12-0516_43_18.131123/model-00003-2.17677-0.49012-30.53596-0.26389.h5\n",
            "11/11 [==============================] - 171s 17s/step - loss: 2.1768 - categorical_accuracy: 0.4901 - val_loss: 30.5360 - val_categorical_accuracy: 0.2639 - lr: 0.0010\n",
            "Epoch 4/30\n",
            "11/11 [==============================] - ETA: 0s - loss: 1.6753 - categorical_accuracy: 0.4862 \n",
            "Epoch 4: saving model to model_init_2023-12-0516_43_18.131123/model-00004-1.67531-0.48617-24.39006-0.20833.h5\n",
            "11/11 [==============================] - 144s 14s/step - loss: 1.6753 - categorical_accuracy: 0.4862 - val_loss: 24.3901 - val_categorical_accuracy: 0.2083 - lr: 0.0010\n",
            "Epoch 5/30\n",
            "11/11 [==============================] - ETA: 0s - loss: 1.3745 - categorical_accuracy: 0.5217\n",
            "Epoch 5: saving model to model_init_2023-12-0516_43_18.131123/model-00005-1.37453-0.52174-14.74263-0.18056.h5\n",
            "11/11 [==============================] - 97s 10s/step - loss: 1.3745 - categorical_accuracy: 0.5217 - val_loss: 14.7426 - val_categorical_accuracy: 0.1806 - lr: 0.0010\n",
            "Epoch 6/30\n",
            "11/11 [==============================] - ETA: 0s - loss: 1.3968 - categorical_accuracy: 0.5415\n",
            "Epoch 6: saving model to model_init_2023-12-0516_43_18.131123/model-00006-1.39681-0.54150-9.59074-0.20833.h5\n",
            "11/11 [==============================] - 86s 9s/step - loss: 1.3968 - categorical_accuracy: 0.5415 - val_loss: 9.5907 - val_categorical_accuracy: 0.2083 - lr: 0.0010\n",
            "Epoch 7/30\n",
            "11/11 [==============================] - ETA: 0s - loss: 1.1883 - categorical_accuracy: 0.6166\n",
            "Epoch 7: saving model to model_init_2023-12-0516_43_18.131123/model-00007-1.18833-0.61660-6.96985-0.22222.h5\n",
            "11/11 [==============================] - 96s 9s/step - loss: 1.1883 - categorical_accuracy: 0.6166 - val_loss: 6.9698 - val_categorical_accuracy: 0.2222 - lr: 0.0010\n",
            "Epoch 8/30\n",
            "11/11 [==============================] - ETA: 0s - loss: 1.2693 - categorical_accuracy: 0.5652\n",
            "Epoch 8: saving model to model_init_2023-12-0516_43_18.131123/model-00008-1.26927-0.56522-6.19615-0.22222.h5\n",
            "11/11 [==============================] - 91s 9s/step - loss: 1.2693 - categorical_accuracy: 0.5652 - val_loss: 6.1961 - val_categorical_accuracy: 0.2222 - lr: 0.0010\n",
            "Epoch 9/30\n",
            "11/11 [==============================] - ETA: 0s - loss: 1.2059 - categorical_accuracy: 0.5771\n",
            "Epoch 9: saving model to model_init_2023-12-0516_43_18.131123/model-00009-1.20594-0.57708-3.73157-0.33333.h5\n",
            "11/11 [==============================] - 54s 5s/step - loss: 1.2059 - categorical_accuracy: 0.5771 - val_loss: 3.7316 - val_categorical_accuracy: 0.3333 - lr: 0.0010\n",
            "Epoch 10/30\n",
            "11/11 [==============================] - ETA: 0s - loss: 1.2274 - categorical_accuracy: 0.5929\n",
            "Epoch 10: saving model to model_init_2023-12-0516_43_18.131123/model-00010-1.22745-0.59289-2.37342-0.36111.h5\n",
            "11/11 [==============================] - 70s 7s/step - loss: 1.2274 - categorical_accuracy: 0.5929 - val_loss: 2.3734 - val_categorical_accuracy: 0.3611 - lr: 0.0010\n",
            "Epoch 11/30\n",
            "11/11 [==============================] - ETA: 0s - loss: 0.9233 - categorical_accuracy: 0.6838\n",
            "Epoch 11: saving model to model_init_2023-12-0516_43_18.131123/model-00011-0.92329-0.68379-2.75904-0.31944.h5\n",
            "11/11 [==============================] - 51s 5s/step - loss: 0.9233 - categorical_accuracy: 0.6838 - val_loss: 2.7590 - val_categorical_accuracy: 0.3194 - lr: 0.0010\n",
            "Epoch 12/30\n",
            "11/11 [==============================] - ETA: 0s - loss: 0.9869 - categorical_accuracy: 0.6522\n",
            "Epoch 12: saving model to model_init_2023-12-0516_43_18.131123/model-00012-0.98693-0.65217-2.81238-0.34722.h5\n",
            "\n",
            "Epoch 12: ReduceLROnPlateau reducing learning rate to 0.0005000000237487257.\n",
            "11/11 [==============================] - 66s 7s/step - loss: 0.9869 - categorical_accuracy: 0.6522 - val_loss: 2.8124 - val_categorical_accuracy: 0.3472 - lr: 0.0010\n",
            "Epoch 13/30\n",
            "11/11 [==============================] - ETA: 0s - loss: 1.0710 - categorical_accuracy: 0.6245\n",
            "Epoch 13: saving model to model_init_2023-12-0516_43_18.131123/model-00013-1.07097-0.62451-1.65438-0.54167.h5\n",
            "11/11 [==============================] - 64s 6s/step - loss: 1.0710 - categorical_accuracy: 0.6245 - val_loss: 1.6544 - val_categorical_accuracy: 0.5417 - lr: 5.0000e-04\n",
            "Epoch 14/30\n",
            "11/11 [==============================] - ETA: 0s - loss: 0.7431 - categorical_accuracy: 0.7154\n",
            "Epoch 14: saving model to model_init_2023-12-0516_43_18.131123/model-00014-0.74314-0.71542-0.89500-0.66667.h5\n",
            "11/11 [==============================] - 58s 6s/step - loss: 0.7431 - categorical_accuracy: 0.7154 - val_loss: 0.8950 - val_categorical_accuracy: 0.6667 - lr: 5.0000e-04\n",
            "Epoch 15/30\n",
            "11/11 [==============================] - ETA: 0s - loss: 0.8091 - categorical_accuracy: 0.6957\n",
            "Epoch 15: saving model to model_init_2023-12-0516_43_18.131123/model-00015-0.80909-0.69565-1.45356-0.52778.h5\n",
            "11/11 [==============================] - 53s 5s/step - loss: 0.8091 - categorical_accuracy: 0.6957 - val_loss: 1.4536 - val_categorical_accuracy: 0.5278 - lr: 5.0000e-04\n",
            "Epoch 16/30\n",
            "11/11 [==============================] - ETA: 0s - loss: 0.7439 - categorical_accuracy: 0.7075\n",
            "Epoch 16: saving model to model_init_2023-12-0516_43_18.131123/model-00016-0.74395-0.70751-1.13053-0.56944.h5\n",
            "\n",
            "Epoch 16: ReduceLROnPlateau reducing learning rate to 0.0002500000118743628.\n",
            "11/11 [==============================] - 56s 6s/step - loss: 0.7439 - categorical_accuracy: 0.7075 - val_loss: 1.1305 - val_categorical_accuracy: 0.5694 - lr: 5.0000e-04\n",
            "Epoch 17/30\n",
            "11/11 [==============================] - ETA: 0s - loss: 0.8148 - categorical_accuracy: 0.6838\n",
            "Epoch 17: saving model to model_init_2023-12-0516_43_18.131123/model-00017-0.81482-0.68379-0.74560-0.72222.h5\n",
            "11/11 [==============================] - 58s 6s/step - loss: 0.8148 - categorical_accuracy: 0.6838 - val_loss: 0.7456 - val_categorical_accuracy: 0.7222 - lr: 2.5000e-04\n",
            "Epoch 18/30\n",
            "11/11 [==============================] - ETA: 0s - loss: 0.8639 - categorical_accuracy: 0.7115\n",
            "Epoch 18: saving model to model_init_2023-12-0516_43_18.131123/model-00018-0.86392-0.71146-0.92164-0.59722.h5\n",
            "11/11 [==============================] - 57s 6s/step - loss: 0.8639 - categorical_accuracy: 0.7115 - val_loss: 0.9216 - val_categorical_accuracy: 0.5972 - lr: 2.5000e-04\n",
            "Epoch 19/30\n",
            "11/11 [==============================] - ETA: 0s - loss: 0.6632 - categorical_accuracy: 0.7431\n",
            "Epoch 19: saving model to model_init_2023-12-0516_43_18.131123/model-00019-0.66321-0.74308-0.88535-0.63889.h5\n",
            "\n",
            "Epoch 19: ReduceLROnPlateau reducing learning rate to 0.0001250000059371814.\n",
            "11/11 [==============================] - 58s 6s/step - loss: 0.6632 - categorical_accuracy: 0.7431 - val_loss: 0.8854 - val_categorical_accuracy: 0.6389 - lr: 2.5000e-04\n",
            "Epoch 20/30\n",
            "11/11 [==============================] - ETA: 0s - loss: 0.7209 - categorical_accuracy: 0.7391\n",
            "Epoch 20: saving model to model_init_2023-12-0516_43_18.131123/model-00020-0.72091-0.73913-0.72960-0.70833.h5\n",
            "11/11 [==============================] - 49s 5s/step - loss: 0.7209 - categorical_accuracy: 0.7391 - val_loss: 0.7296 - val_categorical_accuracy: 0.7083 - lr: 1.2500e-04\n",
            "Epoch 21/30\n",
            "11/11 [==============================] - ETA: 0s - loss: 0.6200 - categorical_accuracy: 0.7905\n",
            "Epoch 21: saving model to model_init_2023-12-0516_43_18.131123/model-00021-0.62004-0.79051-0.75639-0.68056.h5\n",
            "11/11 [==============================] - 65s 6s/step - loss: 0.6200 - categorical_accuracy: 0.7905 - val_loss: 0.7564 - val_categorical_accuracy: 0.6806 - lr: 1.2500e-04\n",
            "Epoch 22/30\n",
            "11/11 [==============================] - ETA: 0s - loss: 0.7189 - categorical_accuracy: 0.7431\n",
            "Epoch 22: saving model to model_init_2023-12-0516_43_18.131123/model-00022-0.71888-0.74308-0.60182-0.70833.h5\n",
            "11/11 [==============================] - 57s 6s/step - loss: 0.7189 - categorical_accuracy: 0.7431 - val_loss: 0.6018 - val_categorical_accuracy: 0.7083 - lr: 1.2500e-04\n",
            "Epoch 23/30\n",
            "11/11 [==============================] - ETA: 0s - loss: 0.8022 - categorical_accuracy: 0.7194\n",
            "Epoch 23: saving model to model_init_2023-12-0516_43_18.131123/model-00023-0.80215-0.71937-0.88159-0.66667.h5\n",
            "11/11 [==============================] - 58s 6s/step - loss: 0.8022 - categorical_accuracy: 0.7194 - val_loss: 0.8816 - val_categorical_accuracy: 0.6667 - lr: 1.2500e-04\n",
            "Epoch 24/30\n",
            "11/11 [==============================] - ETA: 0s - loss: 0.6484 - categorical_accuracy: 0.7431\n",
            "Epoch 24: saving model to model_init_2023-12-0516_43_18.131123/model-00024-0.64843-0.74308-0.78103-0.73611.h5\n",
            "\n",
            "Epoch 24: ReduceLROnPlateau reducing learning rate to 6.25000029685907e-05.\n",
            "11/11 [==============================] - 56s 6s/step - loss: 0.6484 - categorical_accuracy: 0.7431 - val_loss: 0.7810 - val_categorical_accuracy: 0.7361 - lr: 1.2500e-04\n",
            "Epoch 25/30\n",
            "11/11 [==============================] - ETA: 0s - loss: 0.4672 - categorical_accuracy: 0.8261\n",
            "Epoch 25: saving model to model_init_2023-12-0516_43_18.131123/model-00025-0.46721-0.82609-0.64317-0.73611.h5\n",
            "11/11 [==============================] - 57s 6s/step - loss: 0.4672 - categorical_accuracy: 0.8261 - val_loss: 0.6432 - val_categorical_accuracy: 0.7361 - lr: 6.2500e-05\n",
            "Epoch 26/30\n",
            "11/11 [==============================] - ETA: 0s - loss: 0.5366 - categorical_accuracy: 0.7984\n",
            "Epoch 26: saving model to model_init_2023-12-0516_43_18.131123/model-00026-0.53662-0.79842-0.70879-0.77778.h5\n",
            "\n",
            "Epoch 26: ReduceLROnPlateau reducing learning rate to 3.125000148429535e-05.\n",
            "11/11 [==============================] - 45s 4s/step - loss: 0.5366 - categorical_accuracy: 0.7984 - val_loss: 0.7088 - val_categorical_accuracy: 0.7778 - lr: 6.2500e-05\n",
            "Epoch 27/30\n",
            "11/11 [==============================] - ETA: 0s - loss: 0.5822 - categorical_accuracy: 0.7708\n",
            "Epoch 27: saving model to model_init_2023-12-0516_43_18.131123/model-00027-0.58220-0.77075-0.62053-0.75000.h5\n",
            "11/11 [==============================] - 69s 7s/step - loss: 0.5822 - categorical_accuracy: 0.7708 - val_loss: 0.6205 - val_categorical_accuracy: 0.7500 - lr: 3.1250e-05\n",
            "Epoch 28/30\n",
            "11/11 [==============================] - ETA: 0s - loss: 0.6512 - categorical_accuracy: 0.7233\n",
            "Epoch 28: saving model to model_init_2023-12-0516_43_18.131123/model-00028-0.65122-0.72332-0.63434-0.75000.h5\n",
            "\n",
            "Epoch 28: ReduceLROnPlateau reducing learning rate to 1.5625000742147677e-05.\n",
            "11/11 [==============================] - 55s 5s/step - loss: 0.6512 - categorical_accuracy: 0.7233 - val_loss: 0.6343 - val_categorical_accuracy: 0.7500 - lr: 3.1250e-05\n",
            "Epoch 29/30\n",
            "11/11 [==============================] - ETA: 0s - loss: 0.6583 - categorical_accuracy: 0.7549\n",
            "Epoch 29: saving model to model_init_2023-12-0516_43_18.131123/model-00029-0.65833-0.75494-0.66992-0.76389.h5\n",
            "11/11 [==============================] - 57s 6s/step - loss: 0.6583 - categorical_accuracy: 0.7549 - val_loss: 0.6699 - val_categorical_accuracy: 0.7639 - lr: 1.5625e-05\n",
            "Epoch 30/30\n",
            "11/11 [==============================] - ETA: 0s - loss: 0.6684 - categorical_accuracy: 0.7470\n",
            "Epoch 30: saving model to model_init_2023-12-0516_43_18.131123/model-00030-0.66838-0.74704-0.69261-0.73611.h5\n",
            "\n",
            "Epoch 30: ReduceLROnPlateau reducing learning rate to 1e-05.\n",
            "11/11 [==============================] - 54s 5s/step - loss: 0.6684 - categorical_accuracy: 0.7470 - val_loss: 0.6926 - val_categorical_accuracy: 0.7361 - lr: 1.5625e-05\n"
          ]
        }
      ]
    },
    {
      "cell_type": "code",
      "source": [
        "fig, axes = plt.subplots(nrows=1, ncols=2, figsize=(16,4))\n",
        "axes[0].plot(history.history['categorical_accuracy'])\n",
        "axes[0].plot(history.history['val_categorical_accuracy'])\n",
        "axes[0].legend(['categorical_accuracy','val_categorical_accuracy'])\n",
        "\n",
        "axes[1].plot(history.history['loss'])\n",
        "axes[1].plot(history.history['val_loss'])\n",
        "axes[1].legend(['loss','val_loss'])"
      ],
      "metadata": {
        "id": "hbXI6f5TAfk2",
        "colab": {
          "base_uri": "https://localhost:8080/",
          "height": 386
        },
        "outputId": "8e7d0655-e245-492e-bd8f-b43fb5077703"
      },
      "execution_count": 33,
      "outputs": [
        {
          "output_type": "execute_result",
          "data": {
            "text/plain": [
              "<matplotlib.legend.Legend at 0x7fa4cb93c1f0>"
            ]
          },
          "metadata": {},
          "execution_count": 33
        },
        {
          "output_type": "display_data",
          "data": {
            "text/plain": [
              "<Figure size 1600x400 with 2 Axes>"
            ],
            "image/png": "[encoded data removed]"
          },
          "metadata": {}
        }
      ]
    },
    {
      "cell_type": "code",
      "source": [
        "model3D.save(\"Conv3D_final.h5\")"
      ],
      "metadata": {
        "id": "epOQxOf8CPNN"
      },
      "execution_count": 34,
      "outputs": []
    },
    {
      "cell_type": "code",
      "source": [
        "from google.colab import files\n",
        "files.download(\"Conv3D_final.h5\")"
      ],
      "metadata": {
        "id": "kexb5CMxCPCG",
        "colab": {
          "base_uri": "https://localhost:8080/",
          "height": 17
        },
        "outputId": "ad4af3c3-1627-422d-9be3-62eeae54af43"
      },
      "execution_count": 35,
      "outputs": [
        {
          "output_type": "display_data",
          "data": {
            "text/plain": [
              "<IPython.core.display.Javascript object>"
            ],
            "application/javascript": [
              "\n",
              "    async function download(id, filename, size) {\n",
              "      if (!google.colab.kernel.accessAllowed) {\n",
              "        return;\n",
              "      }\n",
              "      const div = document.createElement('div');\n",
              "      const label = document.createElement('label');\n",
              "      label.textContent = `Downloading \"${filename}\": `;\n",
              "      div.appendChild(label);\n",
              "      const progress = document.createElement('progress');\n",
              "      progress.max = size;\n",
              "      div.appendChild(progress);\n",
              "      document.body.appendChild(div);\n",
              "\n",
              "      const buffers = [];\n",
              "      let downloaded = 0;\n",
              "\n",
              "      const channel = await google.colab.kernel.comms.open(id);\n",
              "      // Send a message to notify the kernel that we're ready.\n",
              "      channel.send({})\n",
              "\n",
              "      for await (const message of channel.messages) {\n",
              "        // Send a message to notify the kernel that we're ready.\n",
              "        channel.send({})\n",
              "        if (message.buffers) {\n",
              "          for (const buffer of message.buffers) {\n",
              "            buffers.push(buffer);\n",
              "            downloaded += buffer.byteLength;\n",
              "            progress.value = downloaded;\n",
              "          }\n",
              "        }\n",
              "      }\n",
              "      const blob = new Blob(buffers, {type: 'application/binary'});\n",
              "      const a = document.createElement('a');\n",
              "      a.href = window.URL.createObjectURL(blob);\n",
              "      a.download = filename;\n",
              "      div.appendChild(a);\n",
              "      a.click();\n",
              "      div.remove();\n",
              "    }\n",
              "  "
            ]
          },
          "metadata": {}
        },
        {
          "output_type": "display_data",
          "data": {
            "text/plain": [
              "<IPython.core.display.Javascript object>"
            ],
            "application/javascript": [
              "download(\"download_c1a8df34-70fc-435b-90e0-61fd1bf1405c\", \"Conv3D_final.h5\", 75604936)"
            ]
          },
          "metadata": {}
        }
      ]
    },
    {
      "cell_type": "markdown",
      "source": [
        "# Building a model with CNN and RNN"
      ],
      "metadata": {
        "id": "u8pZxvpG_fMv"
      }
    },
    {
      "cell_type": "markdown",
      "source": [
        "# Generator"
      ],
      "metadata": {
        "id": "8RnXlx82_zov"
      }
    },
    {
      "cell_type": "code",
      "source": [
        "from skimage.transform import resize"
      ],
      "metadata": {
        "id": "-VGOIlkJ_d94"
      },
      "execution_count": null,
      "outputs": []
    },
    {
      "cell_type": "code",
      "source": [
        "def generator(source_path, folder_list, batch_size):\n",
        "    print( 'Source path = ', source_path, '; batch size =', batch_size)\n",
        "    img_idx = [0,1,2,4,6,8,10,12,14,16,18,20,22,24,26,27,28,29] #create a list of image numbers you want to use for a particular video\n",
        "    while True:\n",
        "        t = np.random.permutation(folder_list)\n",
        "        num_batches = len(source_path)//batch_size # calculate the number of batches\n",
        "        for batch in range(num_batches):\n",
        "            batch_data = np.zeros((batch_size,18,84,84,3)) # x is the number of images you use for each video, (y,z) is the final size of the input images and 3 is the number of channels RGB\n",
        "            batch_labels = np.zeros((batch_size,5)) # batch_labels is the one hot representation of the output\n",
        "            for folder in range(batch_size):\n",
        "                imgs = os.listdir(source_path+'/'+ t[folder + (batch*batch_size)].split(';')[0]) # read all the images in the folder\n",
        "                for idx,item in enumerate(img_idx):\n",
        "                    image = imageio.imread(source_path+'/'+ t[folder + (batch*batch_size)].strip().split(';')[0]+'/'+imgs[item]).astype(np.float32)\n",
        "\n",
        "                    #crop the images and resize them. Note that the images are of 2 different shape\n",
        "                    #and the conv3D will throw error if the inputs in a batch have different shapes\n",
        "                    if image.shape[1] == 160:\n",
        "                        image = resize(image[:,20:140,:],(84,84)).astype(np.float32) #cropping the (120X160) image to make (120X120)\n",
        "                    else:\n",
        "                        print(\"\")\n",
        "                        image = resize(image,(84,84)).astype(np.float32)\n",
        "                    # Normalizing RGB image with mean subtraction\n",
        "                    batch_data[folder,idx,:,:,0] = image[:,:,0] - 104\n",
        "                    batch_data[folder,idx,:,:,1] = image[:,:,1] - 117\n",
        "                    batch_data[folder,idx,:,:,2] = image[:,:,2] - 123\n",
        "\n",
        "                batch_labels[folder, int(t[folder + (batch*batch_size)].strip().split(';')[2])] = 1\n",
        "            yield batch_data, batch_labels #you yield the batch_data and the batch_labels, remember what does yield do\n",
        "\n",
        "\n",
        "\n",
        "        # write the code for the remaining data points which are left after full batches\n",
        "        if(len(t)%batch_size!=0):\n",
        "            batch_data = np.zeros((len(t)%batch_size,18,84,84,3)) # x is the number of images you use for each video, (y,z) is the final size of the input images and 3 is the number of channels RGB\n",
        "            batch_labels = np.zeros((len(t)%batch_size,5)) # batch_labels is the one hot representation of the output\n",
        "            for folder in range(len(t)%batch_size): # iterate over the batch_size\n",
        "                imgs = os.listdir(source_path+'/'+ t[folder + (num_batches*(len(t)%batch_size))].split(';')[0]) # read all the images in the folder\n",
        "                for idx,item in enumerate(img_idx): #  Iterate iver the frames/images of a folder to read them in\n",
        "                    image = imageio.imread(source_path+'/'+ t[folder + (num_batches*(len(t)%batch_size))].strip().split(';')[0]+'/'+imgs[item]).astype(np.float32)\n",
        "\n",
        "                    #crop the images and resize them. Note that the images are of 2 different shape\n",
        "                    #and the conv3D will throw error if the inputs in a batch have different shapes\n",
        "\n",
        "                    if image.shape[1] == 160:\n",
        "                        image = resize(image[:,20:140,:],(84,84)).astype(np.float32)\n",
        "                    else:\n",
        "                        image = resize(image,(84,84)).astype(np.float32)\n",
        "                    # Normalizing RGB image with mean subtraction\n",
        "                    batch_data[folder,idx,:,:,0] = image[:,:,0] - 104\n",
        "                    batch_data[folder,idx,:,:,1] = image[:,:,1] - 117\n",
        "                    batch_data[folder,idx,:,:,2] = image[:,:,2] - 123\n",
        "\n",
        "                batch_labels[folder, int(t[folder + (num_batches*(len(t)%batch_size))].strip().split(';')[2])] = 1\n",
        "            yield batch_data, batch_labels #you yield the batch_data and the batch_labels, remember what does yield do"
      ],
      "metadata": {
        "id": "r-fhYVrYGgdN"
      },
      "execution_count": null,
      "outputs": []
    },
    {
      "cell_type": "code",
      "source": [
        "curr_dt_time = datetime.datetime.now()\n",
        "train_path = '/content/gdrive/MyDrive/Project_data/Project_data/train'\n",
        "val_path = '/content/gdrive/MyDrive/Project_data/Project_data/val'\n",
        "\n",
        "num_train_sequences = len(train_doc)\n",
        "print('# training sequences =', num_train_sequences)\n",
        "num_val_sequences = len(val_doc)\n",
        "print('# validation sequences =', num_val_sequences)\n",
        "num_epochs = 30 # choose the number of epochs\n",
        "print ('# epochs =', num_epochs)"
      ],
      "metadata": {
        "colab": {
          "base_uri": "https://localhost:8080/"
        },
        "id": "Q4eB3hv5_-gX",
        "outputId": "0a435288-044c-42f0-d155-b07d87cb6fc9"
      },
      "execution_count": null,
      "outputs": [
        {
          "output_type": "stream",
          "name": "stdout",
          "text": [
            "# training sequences = 663\n",
            "# validation sequences = 100\n",
            "# epochs = 30\n"
          ]
        }
      ]
    },
    {
      "cell_type": "markdown",
      "source": [
        "## Building the model"
      ],
      "metadata": {
        "id": "ovktTJUpAFVn"
      }
    },
    {
      "cell_type": "code",
      "source": [
        "from tensorflow.keras.models import Sequential, Model\n",
        "from tensorflow.keras.layers import Dense, GRU, Flatten, TimeDistributed, Flatten, BatchNormalization, Activation, Dropout\n",
        "\n",
        "from tensorflow.keras.layers import Conv3D, MaxPooling3D, Conv2D, MaxPooling2D\n",
        "from tensorflow.keras.callbacks import ModelCheckpoint, ReduceLROnPlateau\n",
        "from tensorflow.keras import optimizers\n",
        "from keras.optimizers import Adam"
      ],
      "metadata": {
        "id": "uN7a2N8s_-dP"
      },
      "execution_count": null,
      "outputs": []
    },
    {
      "cell_type": "code",
      "source": [
        "Input_shape = (18, 84, 84, 3)\n",
        "\n",
        "model = Sequential()\n",
        "model.add(TimeDistributed(Conv2D(16, (3,3), padding='same', activation='relu'), input_shape = Input_shape))\n",
        "model.add(TimeDistributed(BatchNormalization()))\n",
        "model.add(TimeDistributed(MaxPooling2D(2,2)))\n",
        "\n",
        "model.add(TimeDistributed(Conv2D(32, (3,3), padding='same', activation='relu')))\n",
        "model.add(TimeDistributed(BatchNormalization()))\n",
        "model.add(TimeDistributed(MaxPooling2D(2,2)))\n",
        "\n",
        "model.add(TimeDistributed(Conv2D(64, (3,3), padding='same', activation='relu')))\n",
        "model.add(TimeDistributed(BatchNormalization()))\n",
        "model.add(TimeDistributed(MaxPooling2D(2,2)))\n",
        "model.add(TimeDistributed(Flatten()))\n",
        "\n",
        "model.add(GRU(64))\n",
        "model.add(Dropout(0.25))\n",
        "model.add(Dense(128, activation='relu'))\n",
        "model.add(Dropout(0.25))\n",
        "model.add(Dense(5, activation='softmax'))"
      ],
      "metadata": {
        "id": "mpmnWNQ0_-a3"
      },
      "execution_count": null,
      "outputs": []
    },
    {
      "cell_type": "code",
      "source": [
        "optimiser = optimizers.SGD(learning_rate=0.001, momentum=0.9, nesterov=True)\n",
        "model.compile(optimizer=optimiser, loss='categorical_crossentropy', metrics=['categorical_accuracy'],run_eagerly=True)\n",
        "print (model.summary())"
      ],
      "metadata": {
        "colab": {
          "base_uri": "https://localhost:8080/"
        },
        "id": "aPzEi3r2_-Yn",
        "outputId": "e13fa5ad-c4ec-404d-e423-0720b93aea21"
      },
      "execution_count": null,
      "outputs": [
        {
          "output_type": "stream",
          "name": "stdout",
          "text": [
            "Model: \"sequential_1\"\n",
            "_________________________________________________________________\n",
            " Layer (type)                Output Shape              Param #   \n",
            "=================================================================\n",
            " time_distributed_10 (TimeD  (None, 18, 84, 84, 16)    448       \n",
            " istributed)                                                     \n",
            "                                                                 \n",
            " time_distributed_11 (TimeD  (None, 18, 84, 84, 16)    64        \n",
            " istributed)                                                     \n",
            "                                                                 \n",
            " time_distributed_12 (TimeD  (None, 18, 42, 42, 16)    0         \n",
            " istributed)                                                     \n",
            "                                                                 \n",
            " time_distributed_13 (TimeD  (None, 18, 42, 42, 32)    4640      \n",
            " istributed)                                                     \n",
            "                                                                 \n",
            " time_distributed_14 (TimeD  (None, 18, 42, 42, 32)    128       \n",
            " istributed)                                                     \n",
            "                                                                 \n",
            " time_distributed_15 (TimeD  (None, 18, 21, 21, 32)    0         \n",
            " istributed)                                                     \n",
            "                                                                 \n",
            " time_distributed_16 (TimeD  (None, 18, 21, 21, 64)    18496     \n",
            " istributed)                                                     \n",
            "                                                                 \n",
            " time_distributed_17 (TimeD  (None, 18, 21, 21, 64)    256       \n",
            " istributed)                                                     \n",
            "                                                                 \n",
            " time_distributed_18 (TimeD  (None, 18, 10, 10, 64)    0         \n",
            " istributed)                                                     \n",
            "                                                                 \n",
            " time_distributed_19 (TimeD  (None, 18, 6400)          0         \n",
            " istributed)                                                     \n",
            "                                                                 \n",
            " gru_1 (GRU)                 (None, 64)                1241472   \n",
            "                                                                 \n",
            " dropout_2 (Dropout)         (None, 64)                0         \n",
            "                                                                 \n",
            " dense_2 (Dense)             (None, 128)               8320      \n",
            "                                                                 \n",
            " dropout_3 (Dropout)         (None, 128)               0         \n",
            "                                                                 \n",
            " dense_3 (Dense)             (None, 5)                 645       \n",
            "                                                                 \n",
            "=================================================================\n",
            "Total params: 1274469 (4.86 MB)\n",
            "Trainable params: 1274245 (4.86 MB)\n",
            "Non-trainable params: 224 (896.00 Byte)\n",
            "_________________________________________________________________\n",
            "None\n"
          ]
        }
      ]
    },
    {
      "cell_type": "code",
      "source": [
        "train_generator = generator(train_path, train_doc, batch_size)\n",
        "val_generator = generator(val_path, val_doc, batch_size)"
      ],
      "metadata": {
        "id": "FxGG-Mpx_-WP"
      },
      "execution_count": null,
      "outputs": []
    },
    {
      "cell_type": "code",
      "source": [
        "model_name = 'model_init' + '_' + str(curr_dt_time).replace(' ','').replace(':','_') + '/'\n",
        "\n",
        "if not os.path.exists(model_name):\n",
        "    os.mkdir(model_name)\n",
        "\n",
        "filepath = model_name + 'model-{epoch:05d}-{loss:.5f}-{categorical_accuracy:.5f}-{val_loss:.5f}-{val_categorical_accuracy:.5f}.h5'\n",
        "\n",
        "checkpoint = ModelCheckpoint(filepath, monitor='val_loss', verbose=1, save_best_only=False, save_weights_only=False, mode='auto', period=1)\n",
        "\n",
        "LR = ReduceLROnPlateau(monitor='val_loss', factor=0.5, patience=2, verbose=1, mode='min', min_delta=0.0001, cooldown=0, min_lr=0.00001)\n",
        "callbacks_list = [checkpoint, LR]"
      ],
      "metadata": {
        "colab": {
          "base_uri": "https://localhost:8080/"
        },
        "id": "OWiAz_D9_-T3",
        "outputId": "ff0354d6-98b8-456b-a135-190e0f90e7cc"
      },
      "execution_count": null,
      "outputs": [
        {
          "output_type": "stream",
          "name": "stderr",
          "text": [
            "WARNING:tensorflow:`period` argument is deprecated. Please use `save_freq` to specify the frequency in number of batches seen.\n"
          ]
        }
      ]
    },
    {
      "cell_type": "code",
      "source": [
        "if (num_train_sequences%batch_size) == 0:\n",
        "    steps_per_epoch = int(num_train_sequences/batch_size)\n",
        "else:\n",
        "    steps_per_epoch = (num_train_sequences//batch_size) + 1\n",
        "\n",
        "if (num_val_sequences%batch_size) == 0:\n",
        "    validation_steps = int(num_val_sequences/batch_size)\n",
        "else:\n",
        "    validation_steps = (num_val_sequences//batch_size) + 1"
      ],
      "metadata": {
        "id": "Q4cRMajr_-Rf"
      },
      "execution_count": null,
      "outputs": []
    },
    {
      "cell_type": "code",
      "source": [
        "history = model.fit(train_generator, steps_per_epoch=steps_per_epoch, epochs=num_epochs,\n",
        "                    verbose=1, callbacks=callbacks_list, validation_data=val_generator,\n",
        "                    validation_steps=validation_steps, class_weight=None, workers=1, initial_epoch=0)"
      ],
      "metadata": {
        "colab": {
          "base_uri": "https://localhost:8080/"
        },
        "id": "5zwhYYJD_-O3",
        "outputId": "9265a089-a1cf-44fc-e092-54acbfd0cc41"
      },
      "execution_count": null,
      "outputs": [
        {
          "output_type": "stream",
          "name": "stdout",
          "text": [
            "Source path =  /content/gdrive/MyDrive/Project_data/Project_data/train ; batch size = 64\n",
            "Epoch 1/30\n",
            "11/11 [==============================] - ETA: 0s - loss: 1.6955 - categorical_accuracy: 0.2174  Source path =  /content/gdrive/MyDrive/Project_data/Project_data/val ; batch size = 64\n",
            "\n",
            "Epoch 1: saving model to model_init_2023-12-0504_01_00.376987/model-00001-1.69553-0.21739-1.75243-0.19444.h5\n",
            "11/11 [==============================] - 1340s 133s/step - loss: 1.6955 - categorical_accuracy: 0.2174 - val_loss: 1.7524 - val_categorical_accuracy: 0.1944 - lr: 0.0010\n",
            "Epoch 2/30\n",
            "11/11 [==============================] - ETA: 0s - loss: 1.4349 - categorical_accuracy: 0.3597 \n",
            "Epoch 2: saving model to model_init_2023-12-0504_01_00.376987/model-00002-1.43491-0.35968-1.93579-0.22222.h5\n",
            "11/11 [==============================] - 628s 62s/step - loss: 1.4349 - categorical_accuracy: 0.3597 - val_loss: 1.9358 - val_categorical_accuracy: 0.2222 - lr: 0.0010\n",
            "Epoch 3/30\n",
            "11/11 [==============================] - ETA: 0s - loss: 1.3117 - categorical_accuracy: 0.4229 \n",
            "Epoch 3: saving model to model_init_2023-12-0504_01_00.376987/model-00003-1.31165-0.42292-2.10145-0.19444.h5\n",
            "\n",
            "Epoch 3: ReduceLROnPlateau reducing learning rate to 0.0005000000237487257.\n",
            "11/11 [==============================] - 518s 51s/step - loss: 1.3117 - categorical_accuracy: 0.4229 - val_loss: 2.1014 - val_categorical_accuracy: 0.1944 - lr: 0.0010\n",
            "Epoch 4/30\n",
            "11/11 [==============================] - ETA: 0s - loss: 1.2075 - categorical_accuracy: 0.5415 \n",
            "Epoch 4: saving model to model_init_2023-12-0504_01_00.376987/model-00004-1.20755-0.54150-2.04963-0.25000.h5\n",
            "11/11 [==============================] - 385s 38s/step - loss: 1.2075 - categorical_accuracy: 0.5415 - val_loss: 2.0496 - val_categorical_accuracy: 0.2500 - lr: 5.0000e-04\n",
            "Epoch 5/30\n",
            "11/11 [==============================] - ETA: 0s - loss: 1.1374 - categorical_accuracy: 0.5771 \n",
            "Epoch 5: saving model to model_init_2023-12-0504_01_00.376987/model-00005-1.13737-0.57708-2.18889-0.18056.h5\n",
            "\n",
            "Epoch 5: ReduceLROnPlateau reducing learning rate to 0.0002500000118743628.\n",
            "11/11 [==============================] - 259s 25s/step - loss: 1.1374 - categorical_accuracy: 0.5771 - val_loss: 2.1889 - val_categorical_accuracy: 0.1806 - lr: 5.0000e-04\n",
            "Epoch 6/30\n",
            "11/11 [==============================] - ETA: 0s - loss: 1.0356 - categorical_accuracy: 0.5810 \n",
            "Epoch 6: saving model to model_init_2023-12-0504_01_00.376987/model-00006-1.03563-0.58103-2.27373-0.19444.h5\n",
            "11/11 [==============================] - 248s 24s/step - loss: 1.0356 - categorical_accuracy: 0.5810 - val_loss: 2.2737 - val_categorical_accuracy: 0.1944 - lr: 2.5000e-04\n",
            "Epoch 7/30\n",
            "11/11 [==============================] - ETA: 0s - loss: 1.0168 - categorical_accuracy: 0.6522 \n",
            "Epoch 7: saving model to model_init_2023-12-0504_01_00.376987/model-00007-1.01684-0.65217-1.85631-0.27778.h5\n",
            "\n",
            "Epoch 7: ReduceLROnPlateau reducing learning rate to 0.0001250000059371814.\n",
            "11/11 [==============================] - 186s 18s/step - loss: 1.0168 - categorical_accuracy: 0.6522 - val_loss: 1.8563 - val_categorical_accuracy: 0.2778 - lr: 2.5000e-04\n",
            "Epoch 8/30\n",
            "11/11 [==============================] - ETA: 0s - loss: 0.9994 - categorical_accuracy: 0.6285 \n",
            "Epoch 8: saving model to model_init_2023-12-0504_01_00.376987/model-00008-0.99937-0.62846-1.94768-0.23611.h5\n",
            "11/11 [==============================] - 166s 16s/step - loss: 0.9994 - categorical_accuracy: 0.6285 - val_loss: 1.9477 - val_categorical_accuracy: 0.2361 - lr: 1.2500e-04\n",
            "Epoch 9/30\n",
            "11/11 [==============================] - ETA: 0s - loss: 0.9746 - categorical_accuracy: 0.6324 \n",
            "Epoch 9: saving model to model_init_2023-12-0504_01_00.376987/model-00009-0.97456-0.63241-1.87894-0.25000.h5\n",
            "\n",
            "Epoch 9: ReduceLROnPlateau reducing learning rate to 6.25000029685907e-05.\n",
            "11/11 [==============================] - 156s 15s/step - loss: 0.9746 - categorical_accuracy: 0.6324 - val_loss: 1.8789 - val_categorical_accuracy: 0.2500 - lr: 1.2500e-04\n",
            "Epoch 10/30\n",
            "11/11 [==============================] - ETA: 0s - loss: 0.9916 - categorical_accuracy: 0.6443\n",
            "Epoch 10: saving model to model_init_2023-12-0504_01_00.376987/model-00010-0.99165-0.64427-1.69830-0.30556.h5\n",
            "11/11 [==============================] - 151s 14s/step - loss: 0.9916 - categorical_accuracy: 0.6443 - val_loss: 1.6983 - val_categorical_accuracy: 0.3056 - lr: 6.2500e-05\n",
            "Epoch 11/30\n",
            "11/11 [==============================] - ETA: 0s - loss: 0.9584 - categorical_accuracy: 0.6838\n",
            "Epoch 11: saving model to model_init_2023-12-0504_01_00.376987/model-00011-0.95840-0.68379-1.79244-0.19444.h5\n",
            "11/11 [==============================] - 142s 13s/step - loss: 0.9584 - categorical_accuracy: 0.6838 - val_loss: 1.7924 - val_categorical_accuracy: 0.1944 - lr: 6.2500e-05\n",
            "Epoch 12/30\n",
            "11/11 [==============================] - ETA: 0s - loss: 0.9434 - categorical_accuracy: 0.6640\n",
            "Epoch 12: saving model to model_init_2023-12-0504_01_00.376987/model-00012-0.94342-0.66403-1.55842-0.27778.h5\n",
            "11/11 [==============================] - 148s 14s/step - loss: 0.9434 - categorical_accuracy: 0.6640 - val_loss: 1.5584 - val_categorical_accuracy: 0.2778 - lr: 6.2500e-05\n",
            "Epoch 13/30\n",
            "11/11 [==============================] - ETA: 0s - loss: 0.9437 - categorical_accuracy: 0.6680\n",
            "Epoch 13: saving model to model_init_2023-12-0504_01_00.376987/model-00013-0.94374-0.66798-1.57494-0.33333.h5\n",
            "11/11 [==============================] - 147s 14s/step - loss: 0.9437 - categorical_accuracy: 0.6680 - val_loss: 1.5749 - val_categorical_accuracy: 0.3333 - lr: 6.2500e-05\n",
            "Epoch 14/30\n",
            "11/11 [==============================] - ETA: 0s - loss: 0.9427 - categorical_accuracy: 0.6403\n",
            "Epoch 14: saving model to model_init_2023-12-0504_01_00.376987/model-00014-0.94273-0.64032-1.43304-0.38889.h5\n",
            "11/11 [==============================] - 146s 14s/step - loss: 0.9427 - categorical_accuracy: 0.6403 - val_loss: 1.4330 - val_categorical_accuracy: 0.3889 - lr: 6.2500e-05\n",
            "Epoch 15/30\n",
            "11/11 [==============================] - ETA: 0s - loss: 0.8954 - categorical_accuracy: 0.6877\n",
            "Epoch 15: saving model to model_init_2023-12-0504_01_00.376987/model-00015-0.89539-0.68775-1.29484-0.38889.h5\n",
            "11/11 [==============================] - 145s 14s/step - loss: 0.8954 - categorical_accuracy: 0.6877 - val_loss: 1.2948 - val_categorical_accuracy: 0.3889 - lr: 6.2500e-05\n",
            "Epoch 16/30\n",
            "11/11 [==============================] - ETA: 0s - loss: 0.9279 - categorical_accuracy: 0.6838 \n",
            "Epoch 16: saving model to model_init_2023-12-0504_01_00.376987/model-00016-0.92788-0.68379-1.38037-0.43056.h5\n",
            "11/11 [==============================] - 162s 15s/step - loss: 0.9279 - categorical_accuracy: 0.6838 - val_loss: 1.3804 - val_categorical_accuracy: 0.4306 - lr: 6.2500e-05\n",
            "Epoch 17/30\n",
            "11/11 [==============================] - ETA: 0s - loss: 0.8823 - categorical_accuracy: 0.7075\n",
            "Epoch 17: saving model to model_init_2023-12-0504_01_00.376987/model-00017-0.88226-0.70751-1.27637-0.54167.h5\n",
            "11/11 [==============================] - 141s 13s/step - loss: 0.8823 - categorical_accuracy: 0.7075 - val_loss: 1.2764 - val_categorical_accuracy: 0.5417 - lr: 6.2500e-05\n",
            "Epoch 18/30\n",
            "11/11 [==============================] - ETA: 0s - loss: 0.8839 - categorical_accuracy: 0.6996\n",
            "Epoch 18: saving model to model_init_2023-12-0504_01_00.376987/model-00018-0.88387-0.69960-1.21935-0.52778.h5\n",
            "11/11 [==============================] - 150s 14s/step - loss: 0.8839 - categorical_accuracy: 0.6996 - val_loss: 1.2194 - val_categorical_accuracy: 0.5278 - lr: 6.2500e-05\n",
            "Epoch 19/30\n",
            "11/11 [==============================] - ETA: 0s - loss: 0.9082 - categorical_accuracy: 0.6601\n",
            "Epoch 19: saving model to model_init_2023-12-0504_01_00.376987/model-00019-0.90824-0.66008-1.20073-0.62500.h5\n",
            "11/11 [==============================] - 146s 14s/step - loss: 0.9082 - categorical_accuracy: 0.6601 - val_loss: 1.2007 - val_categorical_accuracy: 0.6250 - lr: 6.2500e-05\n",
            "Epoch 20/30\n",
            "11/11 [==============================] - ETA: 0s - loss: 0.8583 - categorical_accuracy: 0.6917 \n",
            "Epoch 20: saving model to model_init_2023-12-0504_01_00.376987/model-00020-0.85827-0.69170-1.12226-0.66667.h5\n",
            "11/11 [==============================] - 154s 14s/step - loss: 0.8583 - categorical_accuracy: 0.6917 - val_loss: 1.1223 - val_categorical_accuracy: 0.6667 - lr: 6.2500e-05\n",
            "Epoch 21/30\n",
            "11/11 [==============================] - ETA: 0s - loss: 0.8531 - categorical_accuracy: 0.7115\n",
            "Epoch 21: saving model to model_init_2023-12-0504_01_00.376987/model-00021-0.85313-0.71146-1.16104-0.54167.h5\n",
            "11/11 [==============================] - 145s 14s/step - loss: 0.8531 - categorical_accuracy: 0.7115 - val_loss: 1.1610 - val_categorical_accuracy: 0.5417 - lr: 6.2500e-05\n",
            "Epoch 22/30\n",
            "11/11 [==============================] - ETA: 0s - loss: 0.8497 - categorical_accuracy: 0.6917 \n",
            "Epoch 22: saving model to model_init_2023-12-0504_01_00.376987/model-00022-0.84972-0.69170-1.20179-0.48611.h5\n",
            "\n",
            "Epoch 22: ReduceLROnPlateau reducing learning rate to 3.125000148429535e-05.\n",
            "11/11 [==============================] - 149s 14s/step - loss: 0.8497 - categorical_accuracy: 0.6917 - val_loss: 1.2018 - val_categorical_accuracy: 0.4861 - lr: 6.2500e-05\n",
            "Epoch 23/30\n",
            "11/11 [==============================] - ETA: 0s - loss: 0.8803 - categorical_accuracy: 0.7075\n",
            "Epoch 23: saving model to model_init_2023-12-0504_01_00.376987/model-00023-0.88033-0.70751-1.08813-0.59722.h5\n",
            "11/11 [==============================] - 146s 14s/step - loss: 0.8803 - categorical_accuracy: 0.7075 - val_loss: 1.0881 - val_categorical_accuracy: 0.5972 - lr: 3.1250e-05\n",
            "Epoch 24/30\n",
            "11/11 [==============================] - ETA: 0s - loss: 0.8403 - categorical_accuracy: 0.7075\n",
            "Epoch 24: saving model to model_init_2023-12-0504_01_00.376987/model-00024-0.84026-0.70751-0.95415-0.75000.h5\n",
            "11/11 [==============================] - 150s 14s/step - loss: 0.8403 - categorical_accuracy: 0.7075 - val_loss: 0.9542 - val_categorical_accuracy: 0.7500 - lr: 3.1250e-05\n",
            "Epoch 25/30\n",
            "11/11 [==============================] - ETA: 0s - loss: 0.9202 - categorical_accuracy: 0.7194\n",
            "Epoch 25: saving model to model_init_2023-12-0504_01_00.376987/model-00025-0.92023-0.71937-1.07556-0.66667.h5\n",
            "11/11 [==============================] - 139s 13s/step - loss: 0.9202 - categorical_accuracy: 0.7194 - val_loss: 1.0756 - val_categorical_accuracy: 0.6667 - lr: 3.1250e-05\n",
            "Epoch 26/30\n",
            "11/11 [==============================] - ETA: 0s - loss: 0.8845 - categorical_accuracy: 0.7036\n",
            "Epoch 26: saving model to model_init_2023-12-0504_01_00.376987/model-00026-0.88446-0.70356-0.94250-0.75000.h5\n",
            "11/11 [==============================] - 147s 14s/step - loss: 0.8845 - categorical_accuracy: 0.7036 - val_loss: 0.9425 - val_categorical_accuracy: 0.7500 - lr: 3.1250e-05\n",
            "Epoch 27/30\n",
            "11/11 [==============================] - ETA: 0s - loss: 0.8609 - categorical_accuracy: 0.6957\n",
            "Epoch 27: saving model to model_init_2023-12-0504_01_00.376987/model-00027-0.86089-0.69565-1.10378-0.61111.h5\n",
            "11/11 [==============================] - 143s 13s/step - loss: 0.8609 - categorical_accuracy: 0.6957 - val_loss: 1.1038 - val_categorical_accuracy: 0.6111 - lr: 3.1250e-05\n",
            "Epoch 28/30\n",
            "11/11 [==============================] - ETA: 0s - loss: 0.8654 - categorical_accuracy: 0.7075\n",
            "Epoch 28: saving model to model_init_2023-12-0504_01_00.376987/model-00028-0.86538-0.70751-1.13547-0.59722.h5\n",
            "\n",
            "Epoch 28: ReduceLROnPlateau reducing learning rate to 1.5625000742147677e-05.\n",
            "11/11 [==============================] - 145s 14s/step - loss: 0.8654 - categorical_accuracy: 0.7075 - val_loss: 1.1355 - val_categorical_accuracy: 0.5972 - lr: 3.1250e-05\n",
            "Epoch 29/30\n",
            "11/11 [==============================] - ETA: 0s - loss: 0.8152 - categorical_accuracy: 0.7510\n",
            "Epoch 29: saving model to model_init_2023-12-0504_01_00.376987/model-00029-0.81516-0.75099-1.12620-0.65278.h5\n",
            "11/11 [==============================] - 144s 13s/step - loss: 0.8152 - categorical_accuracy: 0.7510 - val_loss: 1.1262 - val_categorical_accuracy: 0.6528 - lr: 1.5625e-05\n",
            "Epoch 30/30\n",
            "11/11 [==============================] - ETA: 0s - loss: 0.7969 - categorical_accuracy: 0.7352\n",
            "Epoch 30: saving model to model_init_2023-12-0504_01_00.376987/model-00030-0.79689-0.73518-1.11165-0.62500.h5\n",
            "\n",
            "Epoch 30: ReduceLROnPlateau reducing learning rate to 1e-05.\n",
            "11/11 [==============================] - 144s 14s/step - loss: 0.7969 - categorical_accuracy: 0.7352 - val_loss: 1.1117 - val_categorical_accuracy: 0.6250 - lr: 1.5625e-05\n"
          ]
        }
      ]
    },
    {
      "cell_type": "code",
      "source": [
        "fig, axes = plt.subplots(nrows=1, ncols=2, figsize=(16,4))\n",
        "axes[0].plot(history.history['categorical_accuracy'])\n",
        "axes[0].plot(history.history['val_categorical_accuracy'])\n",
        "axes[0].legend(['categorical_accuracy','val_categorical_accuracy'])\n",
        "\n",
        "axes[1].plot(history.history['loss'])\n",
        "axes[1].plot(history.history['val_loss'])\n",
        "axes[1].legend(['loss','val_loss'])"
      ],
      "metadata": {
        "id": "ytWEl1i6_-K_",
        "colab": {
          "base_uri": "https://localhost:8080/",
          "height": 386
        },
        "outputId": "2e0f2a08-85e4-4e9b-9cc0-a81bcc1a200e"
      },
      "execution_count": null,
      "outputs": [
        {
          "output_type": "execute_result",
          "data": {
            "text/plain": [
              "<matplotlib.legend.Legend at 0x7a3f58213af0>"
            ]
          },
          "metadata": {},
          "execution_count": 34
        },
        {
          "output_type": "display_data",
          "data": {
            "text/plain": [
              "<Figure size 1600x400 with 2 Axes>"
            ],
            "image/png": "[encoded data removed]"
          },
          "metadata": {}
        }
      ]
    },
    {
      "cell_type": "markdown",
      "source": [
        "### Conclusion:\n",
        "The best model out of all the experiments conducted is experiment number 5 wherein we trained the model with: image frame 84X84, alternate images fed to the model, momentum of 0.9 in SGD optimizer. As can be seen, the accuracies are converging within a 5% range. There is no sign of the model under or over-fitting.\n",
        "Experiments were also conducted using a CNN and RNN model. Apart from taking considerable time to train, the models also showed no sign of improved accuracy. The model always seems to either under-fit or over-fit.\n"
      ],
      "metadata": {
        "id": "JHuY29QgpmsK"
      }
    },
    {
      "cell_type": "code",
      "source": [
        "model.save(\"CNN_RNN.h5\")"
      ],
      "metadata": {
        "id": "OXhvJ9wi_-A-"
      },
      "execution_count": null,
      "outputs": []
    },
    {
      "cell_type": "code",
      "source": [
        "files.download(\"CNN_RNN.h5\")"
      ],
      "metadata": {
        "id": "E6HJLcTH_92O",
        "colab": {
          "base_uri": "https://localhost:8080/",
          "height": 17
        },
        "outputId": "e63ee7f3-44dd-4d16-cd27-497409fc79eb"
      },
      "execution_count": null,
      "outputs": [
        {
          "output_type": "display_data",
          "data": {
            "text/plain": [
              "<IPython.core.display.Javascript object>"
            ],
            "application/javascript": [
              "\n",
              "    async function download(id, filename, size) {\n",
              "      if (!google.colab.kernel.accessAllowed) {\n",
              "        return;\n",
              "      }\n",
              "      const div = document.createElement('div');\n",
              "      const label = document.createElement('label');\n",
              "      label.textContent = `Downloading \"${filename}\": `;\n",
              "      div.appendChild(label);\n",
              "      const progress = document.createElement('progress');\n",
              "      progress.max = size;\n",
              "      div.appendChild(progress);\n",
              "      document.body.appendChild(div);\n",
              "\n",
              "      const buffers = [];\n",
              "      let downloaded = 0;\n",
              "\n",
              "      const channel = await google.colab.kernel.comms.open(id);\n",
              "      // Send a message to notify the kernel that we're ready.\n",
              "      channel.send({})\n",
              "\n",
              "      for await (const message of channel.messages) {\n",
              "        // Send a message to notify the kernel that we're ready.\n",
              "        channel.send({})\n",
              "        if (message.buffers) {\n",
              "          for (const buffer of message.buffers) {\n",
              "            buffers.push(buffer);\n",
              "            downloaded += buffer.byteLength;\n",
              "            progress.value = downloaded;\n",
              "          }\n",
              "        }\n",
              "      }\n",
              "      const blob = new Blob(buffers, {type: 'application/binary'});\n",
              "      const a = document.createElement('a');\n",
              "      a.href = window.URL.createObjectURL(blob);\n",
              "      a.download = filename;\n",
              "      div.appendChild(a);\n",
              "      a.click();\n",
              "      div.remove();\n",
              "    }\n",
              "  "
            ]
          },
          "metadata": {}
        },
        {
          "output_type": "display_data",
          "data": {
            "text/plain": [
              "<IPython.core.display.Javascript object>"
            ],
            "application/javascript": [
              "download(\"download_fc8b9e99-a814-453d-a19a-af63f1ec8cad\", \"CNN_RNN.h5\", 10274984)"
            ]
          },
          "metadata": {}
        }
      ]
    },
    {
      "cell_type": "code",
      "source": [],
      "metadata": {
        "id": "7YM0GIC0AF8j"
      },
      "execution_count": null,
      "outputs": []
    }
  ]
}